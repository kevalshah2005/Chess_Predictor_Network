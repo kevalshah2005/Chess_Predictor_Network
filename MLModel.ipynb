{
  "nbformat": 4,
  "nbformat_minor": 0,
  "metadata": {
    "colab": {
      "provenance": [],
      "machine_shape": "hm"
    },
    "kernelspec": {
      "name": "python3",
      "display_name": "Python 3"
    },
    "language_info": {
      "name": "python"
    }
  },
  "cells": [
    {
      "cell_type": "code",
      "metadata": {
        "id": "URYLB3xVLsiW"
      },
      "source": [
        "import numpy as np\n",
        "import pandas as pd\n",
        "import tensorflow as tf\n",
        "import imageio\n",
        "import keras\n",
        "from keras import models\n",
        "from keras import layers\n",
        "from keras import optimizers\n",
        "from keras import losses\n",
        "from keras import metrics\n",
        "from google.colab import files\n",
        "from google.colab import drive\n",
        "import io\n",
        "import matplotlib.pyplot as plt"
      ],
      "execution_count": 1,
      "outputs": []
    },
    {
      "cell_type": "code",
      "metadata": {
        "id": "zHjs8-7w0etR"
      },
      "source": [
        "drive.mount('/content/drive')"
      ],
      "execution_count": null,
      "outputs": []
    },
    {
      "cell_type": "code",
      "metadata": {
        "id": "vJikhMXKMQ5J"
      },
      "source": [
        "data_path = \"/content/drive/MyDrive/MLFinalProjectFiles/Med_Data.xlsx\"\n",
        "targets_path = \"/content/drive/MyDrive/MLFinalProjectFiles/Med_Targets.xlsx\""
      ],
      "execution_count": null,
      "outputs": []
    },
    {
      "cell_type": "code",
      "metadata": {
        "id": "viSByYCKfV4K"
      },
      "source": [
        "df = pd.read_excel(data_path)\n",
        "df1 = pd.read_excel(targets_path)\n",
        "\n"
      ],
      "execution_count": null,
      "outputs": []
    },
    {
      "cell_type": "code",
      "metadata": {
        "id": "G4NPu3Z_7hQS"
      },
      "source": [
        "df = df.to_numpy()\n",
        "df1 = df1.to_numpy()"
      ],
      "execution_count": null,
      "outputs": []
    },
    {
      "cell_type": "code",
      "metadata": {
        "id": "0nK2a0ib7doP"
      },
      "source": [
        "i = 0\n",
        "correct = 0\n",
        "incorrect = 0\n",
        "for arr in df:\n",
        "  whiteElo = arr[1]\n",
        "  blackElo = arr[2]\n",
        "\n",
        "  if (whiteElo > blackElo):\n",
        "    if (df1[i][0] == 'White'):\n",
        "      correct += 1\n",
        "    else:\n",
        "      incorrect += 1\n",
        "  else:\n",
        "    if (df1[i][0] == 'Black'):\n",
        "      correct += 1\n",
        "    else:\n",
        "      incorrect += 1\n",
        "\n",
        "  i+=1\n",
        "\n",
        "print(correct)\n",
        "print(incorrect)\n",
        "print((100*correct/(correct + incorrect)) / 100)\n",
        "\n",
        "print(df[2])\n",
        "print(df1)\n",
        "\n"
      ],
      "execution_count": null,
      "outputs": []
    },
    {
      "cell_type": "markdown",
      "metadata": {
        "id": "Qfk8CLlNOi80"
      },
      "source": [
        "Data set guide\n",
        "\n",
        "Event:\n",
        "\n",
        "Classical = 0\n",
        "\n",
        "C tourney = 1\n",
        "\n",
        "Blitz = 2\n",
        "\n",
        "Bl tourney = 3\n",
        "\n",
        "Bullet = 4\n",
        "\n",
        "Bu tourney = 5\n",
        "\n",
        "Correspondence = 6\n",
        "\n",
        "Termination:\n",
        "\n",
        "Time exp = 0\n",
        "\n",
        "Normal = 1\n",
        "\n",
        "Result:\n",
        "\n",
        "0 = black w\n",
        "\n",
        "1 = white w\n",
        "\n",
        "2 = tie\n"
      ]
    },
    {
      "cell_type": "code",
      "metadata": {
        "id": "IwzFPEIU64xJ"
      },
      "source": [
        "one_hot_encoded_data = pd.get_dummies(df, columns = ['Event', 'WhiteElo', 'BlackElo', 'ECO', 'Termination'])\n",
        "one_hot_encoded_targets = pd.get_dummies(df1, columns = ['Result'])\n",
        "\n",
        "one_hot_encoded_data"
      ],
      "execution_count": null,
      "outputs": []
    },
    {
      "cell_type": "code",
      "metadata": {
        "id": "lq3RUIgDDGdZ"
      },
      "source": [
        "  data_array = one_hot_encoded_data.to_numpy()\n",
        "targets_array = one_hot_encoded_targets.to_numpy()"
      ],
      "execution_count": null,
      "outputs": []
    },
    {
      "cell_type": "code",
      "metadata": {
        "id": "kOnS0pLPFyqR"
      },
      "source": [
        "train_data = data_array[:800000]\n",
        "valid_data = data_array[800000:]\n",
        "\n",
        "train_targets = targets_array[:800000]\n",
        "valid_targets = targets_array[800000:]"
      ],
      "execution_count": null,
      "outputs": []
    },
    {
      "cell_type": "code",
      "metadata": {
        "id": "eWq_7JubcOmy"
      },
      "source": [
        "def build_model():\n",
        "    model = models.Sequential()\n",
        "\n",
        "    model.add(layers.Dense(64, activation='relu', input_shape=(data_array.shape[1],)))\n",
        "    model.add(layers.Dense(32, activation='relu'))\n",
        "    model.add(layers.Dense(3, activation='softmax'))\n",
        "\n",
        "    modelLoss = keras.losses.CategoricalCrossentropy()\n",
        "    modelMetrics = [tf.keras.metrics.CategoricalCrossentropy()]\n",
        "    model.compile(optimizer='rmsprop', loss=modelLoss, metrics='accuracy')\n",
        "    return model"
      ],
      "execution_count": null,
      "outputs": []
    },
    {
      "cell_type": "code",
      "metadata": {
        "id": "PEwr4ZRmIZFJ"
      },
      "source": [
        "model = build_model()\n",
        "history = model.fit(train_data,\n",
        "                    train_targets,\n",
        "                    epochs=10,\n",
        "                    validation_data=(valid_data, valid_targets))"
      ],
      "execution_count": null,
      "outputs": []
    },
    {
      "cell_type": "code",
      "metadata": {
        "id": "rOkiOi0kF3Lz"
      },
      "source": [
        "history_dict = history.history\n",
        "history_dict.keys()\n",
        "acc = history.history['accuracy']\n",
        "val_acc = history.history['val_accuracy']\n",
        "loss = history.history['loss']\n",
        "val_loss = history.history['val_loss']\n",
        "\n",
        "epochs = range(1, len(acc) + 1)\n",
        "\n",
        "# \"bo\" is for \"blue dot\"\n",
        "plt.plot(epochs, loss, 'ro', label='Training loss')\n",
        "# b is for \"solid blue line\"\n",
        "plt.plot(epochs, val_loss, 'bx-', label='Validation loss')\n",
        "plt.title('Training and validation loss')\n",
        "plt.xlabel('Epochs')\n",
        "plt.ylabel('Loss')\n",
        "plt.legend()\n",
        "\n",
        "plt.show()"
      ],
      "execution_count": null,
      "outputs": []
    },
    {
      "cell_type": "code",
      "metadata": {
        "id": "VRSXSVXgLxsk"
      },
      "source": [
        "plt.clf()   # clear figure\n",
        "acc_values = history_dict['accuracy']\n",
        "val_acc_values = history_dict['val_accuracy']\n",
        "\n",
        "plt.plot(epochs, acc, 'ro', label='Training acc')\n",
        "plt.plot(epochs, val_acc, 'bx-', label='Validation acc')\n",
        "plt.title('Training and validation accuracy')\n",
        "plt.xlabel('Epochs')\n",
        "plt.ylabel('Loss')\n",
        "plt.legend()\n",
        "\n",
        "plt.show()"
      ],
      "execution_count": null,
      "outputs": []
    }
  ]
}